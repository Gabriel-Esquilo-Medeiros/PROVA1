{
 "cells": [
  {
   "cell_type": "code",
   "execution_count": 25,
   "id": "355c4ed0-4ffa-4ac2-81fb-93cdb17bf213",
   "metadata": {},
   "outputs": [],
   "source": [
    "class No: #construtor\n",
    "  def __init__(self,valor):\n",
    "      self.valor = valor\n",
    "      self.proximo = None\n",
    "class ListaEncadeada: #classe para guia da lista\n",
    "  def __init__(self):\n",
    "      self.inicio = None\n",
    "\n",
    "  def inserir(self, valor): # Para o seguinte = 'lista.inserir(valor inteiro)'\n",
    "      novo_no = No(valor)\n",
    "      if self.inicio is None:\n",
    "          self.inicio = novo_no\n",
    "      else:\n",
    "          atual = self.inicio\n",
    "          while atual.proximo:\n",
    "              atual = atual.proximo\n",
    "          atual.proximo = novo_no\n",
    "  def contar(self): # Classe contsdora de elementos\n",
    "      atual = self.inicio\n",
    "      contador = 0 # Contador que sobe o numero\n",
    "      while atual:\n",
    "          contador += 1 # Recebe a quantidade de elementos que tivetr na lista\n",
    "          atual = atual.proximo # Passa para o proximo elemento caso tiver\n",
    "      return contador"
   ]
  },
  {
   "cell_type": "code",
   "execution_count": 31,
   "id": "3230793f-f233-4bdf-afd7-2dd7f26a6031",
   "metadata": {},
   "outputs": [
    {
     "name": "stdout",
     "output_type": "stream",
     "text": [
      "3\n"
     ]
    }
   ],
   "source": [
    "lista = ListaEncadeada()\n",
    "lista.inserir(10)\n",
    "lista.inserir(20)\n",
    "lista.inserir(30)\n",
    "print(lista.contar())"
   ]
  },
  {
   "cell_type": "markdown",
   "id": "e73b6652-e8c1-4309-9471-a27c0949058b",
   "metadata": {},
   "source": [
    "lista2 = ListaEncadeada()\n",
    "lista2.inserir(5)\n",
    "print(lista2.contar())"
   ]
  },
  {
   "cell_type": "code",
   "execution_count": 14,
   "id": "e676d578-605d-4cc4-94ee-6354c15480b9",
   "metadata": {},
   "outputs": [
    {
     "name": "stdout",
     "output_type": "stream",
     "text": [
      "4\n"
     ]
    }
   ],
   "source": [
    "lista3 = ListaEncadeada()\n",
    "lista3.inserir(44)\n",
    "lista3.inserir(2)\n",
    "lista3.inserir(122)\n",
    "lista3.inserir(9)\n",
    "print(lista3.contar())"
   ]
  },
  {
   "cell_type": "markdown",
   "id": "3dcdfa16-c9e0-4e3d-9789-f432417c3f2f",
   "metadata": {},
   "source": [
    "### Ex.: 2"
   ]
  },
  {
   "cell_type": "code",
   "execution_count": 26,
   "id": "e20f273d-9fff-47f3-b6bc-f5957d5299db",
   "metadata": {},
   "outputs": [],
   "source": [
    "class No: #construtor\n",
    "  def __init__(self,valor):\n",
    "      self.valor = valor\n",
    "      self.proximo = None\n",
    "class ListaEncadeada2: #classe para guia da lista\n",
    "  def __init__(self):\n",
    "      self.inicio = None\n",
    "\n",
    "  def inserir(self, valor): # Para o seguinte = 'lista.inserir(valor inteiro)'\n",
    "      novo_no = No(valor)\n",
    "      if not isinstance (valor, int):\n",
    "          raise TypeError(\"Apenas números inteiros!\") # Quebra o código ao tentar inserir qualquer coisa além de valor inteiro (str, float)\n",
    "      if self.inicio is None:\n",
    "          self.inicio = novo_no\n",
    "      else:\n",
    "          atual = self.inicio\n",
    "          while atual.proximo:\n",
    "              atual = atual.proximo\n",
    "          atual.proximo = novo_no\n",
    "  def contar(self): # Classe contsdora de elementos\n",
    "      atual = self.inicio\n",
    "      contador = 0 # Contador que sobe o numero\n",
    "      while atual:\n",
    "          contador += 1 # Recebe a quantidade de elementos que tivetr na lista\n",
    "          atual = atual.proximo # Passa para o proximo elemento caso tiver\n",
    "      return contador"
   ]
  },
  {
   "cell_type": "code",
   "execution_count": 34,
   "id": "62feba3c-ffd8-4dce-9a6e-1832d79a8a4c",
   "metadata": {},
   "outputs": [
    {
     "ename": "TypeError",
     "evalue": "Apenas números inteiros!",
     "output_type": "error",
     "traceback": [
      "\u001b[1;31m---------------------------------------------------------------------------\u001b[0m",
      "\u001b[1;31mTypeError\u001b[0m                                 Traceback (most recent call last)",
      "Cell \u001b[1;32mIn[34], line 3\u001b[0m\n\u001b[0;32m      1\u001b[0m lista4 \u001b[38;5;241m=\u001b[39m ListaEncadeada2()\n\u001b[0;32m      2\u001b[0m lista4\u001b[38;5;241m.\u001b[39minserir(\u001b[38;5;241m40\u001b[39m)\n\u001b[1;32m----> 3\u001b[0m lista4\u001b[38;5;241m.\u001b[39minserir(\u001b[38;5;241m9.9\u001b[39m)\n\u001b[0;32m      4\u001b[0m \u001b[38;5;28mprint\u001b[39m(lista4\u001b[38;5;241m.\u001b[39mcontar())\n",
      "Cell \u001b[1;32mIn[26], line 12\u001b[0m, in \u001b[0;36mListaEncadeada2.inserir\u001b[1;34m(self, valor)\u001b[0m\n\u001b[0;32m     10\u001b[0m novo_no \u001b[38;5;241m=\u001b[39m No(valor)\n\u001b[0;32m     11\u001b[0m \u001b[38;5;28;01mif\u001b[39;00m \u001b[38;5;129;01mnot\u001b[39;00m \u001b[38;5;28misinstance\u001b[39m (valor, \u001b[38;5;28mint\u001b[39m):\n\u001b[1;32m---> 12\u001b[0m     \u001b[38;5;28;01mraise\u001b[39;00m \u001b[38;5;167;01mTypeError\u001b[39;00m(\u001b[38;5;124m\"\u001b[39m\u001b[38;5;124mApenas números inteiros!\u001b[39m\u001b[38;5;124m\"\u001b[39m) \u001b[38;5;66;03m# Quebra o código ao tentar inserir qualquer coisa além de valor inteiro (str, float)\u001b[39;00m\n\u001b[0;32m     13\u001b[0m \u001b[38;5;28;01mif\u001b[39;00m \u001b[38;5;28mself\u001b[39m\u001b[38;5;241m.\u001b[39minicio \u001b[38;5;129;01mis\u001b[39;00m \u001b[38;5;28;01mNone\u001b[39;00m:\n\u001b[0;32m     14\u001b[0m     \u001b[38;5;28mself\u001b[39m\u001b[38;5;241m.\u001b[39minicio \u001b[38;5;241m=\u001b[39m novo_no\n",
      "\u001b[1;31mTypeError\u001b[0m: Apenas números inteiros!"
     ]
    }
   ],
   "source": [
    "lista4 = ListaEncadeada2()\n",
    "lista4.inserir(40)\n",
    "lista4.inserir(9.9)\n",
    "print(lista4.contar())\n",
    "#Código vai quebrar caso queira inserir um número diferente de inteiro ou str"
   ]
  }
 ],
 "metadata": {
  "kernelspec": {
   "display_name": "Python 3 (ipykernel)",
   "language": "python",
   "name": "python3"
  },
  "language_info": {
   "codemirror_mode": {
    "name": "ipython",
    "version": 3
   },
   "file_extension": ".py",
   "mimetype": "text/x-python",
   "name": "python",
   "nbconvert_exporter": "python",
   "pygments_lexer": "ipython3",
   "version": "3.13.5"
  }
 },
 "nbformat": 4,
 "nbformat_minor": 5
}
